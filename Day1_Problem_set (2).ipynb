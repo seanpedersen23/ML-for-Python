{
  "nbformat": 4,
  "nbformat_minor": 0,
  "metadata": {
    "colab": {
      "provenance": [],
      "toc_visible": true
    },
    "kernelspec": {
      "name": "python3",
      "display_name": "Python 3"
    },
    "language_info": {
      "name": "python"
    }
  },
  "cells": [
    {
      "cell_type": "markdown",
      "source": [
        "Question 1: Are the rules for naming variables followed\n",
        "\n",
        "price\n",
        "\n",
        "1price\n",
        "\n",
        "_price\n",
        "\n",
        "Price\n",
        "\n",
        "\n"
      ],
      "metadata": {
        "id": "IeFa2Xc2VuZo"
      }
    },
    {
      "cell_type": "markdown",
      "source": [
        "Question 2: Are the rules for naming variables followed\n",
        "\n",
        "_age\n",
        "\n",
        "age_\n",
        "\n",
        "age_*\n",
        "\n",
        "+age\n",
        "\n"
      ],
      "metadata": {
        "id": "-N3BZvATXeHU"
      }
    },
    {
      "cell_type": "markdown",
      "source": [
        "Question 3 : variable and Variable are different?\n",
        "\n",
        "variable = 3\n",
        "\n",
        "Variable = 4"
      ],
      "metadata": {
        "id": "4Xln_dUVYQdh"
      }
    },
    {
      "cell_type": "markdown",
      "source": [
        "Question 4: Student 1 tells to student 2 that arithmetic operators can be used in python while student 2 disagrees. Can you help student 1  \n",
        " with a python code to add 4 string variables in python."
      ],
      "metadata": {
        "id": "k0Ibq4RBZPZ-"
      }
    },
    {
      "cell_type": "markdown",
      "source": [
        "Question 5: Can you help Jack run the below code\n",
        "\n",
        "variable1 = 3\n",
        "\n",
        "\n",
        "9variable2 = 5\n",
        "\n",
        "  \n",
        "variable3 = variable1 + variable2\n",
        "  \n",
        "\n",
        "print(variable3)\n",
        "\n"
      ],
      "metadata": {
        "id": "680yZaGQcKQJ"
      }
    },
    {
      "cell_type": "markdown",
      "source": [
        " Question 6: Student 1 is not able run below code to assign a value to a. Please help him.\n",
        "\n",
        " print(\"Add and Assign:\",a += b)"
      ],
      "metadata": {
        "id": "R5Vv6h79dE6B"
      }
    },
    {
      "cell_type": "markdown",
      "source": [
        "Question 7: Sam has 100 oranges in his garden while Jack has 100 apples. If 1 orange is 10 euros and 1 apple is 20 euros. Can you write a python code to help Sam and Jack understand the value of 100 oranges and apples each.  "
      ],
      "metadata": {
        "id": "urD7x-ZndsYR"
      }
    },
    {
      "cell_type": "markdown",
      "source": [
        "Question 8: Write a python code to generate the below output\n",
        "\n",
        "0\n",
        "\n",
        "5\n",
        "\n",
        "10\n",
        "\n",
        "15\n",
        "\n",
        "20\n",
        "\n",
        "25\n",
        "\n",
        "30\n",
        "\n",
        "35\n",
        "\n",
        "40\n",
        "\n",
        "\n",
        "\n",
        "\n"
      ],
      "metadata": {
        "id": "gpHF3qGGfjNR"
      }
    },
    {
      "cell_type": "markdown",
      "source": [
        "Question 9: Complete the code below to get the output mentioned\n",
        "\n",
        "for x in range(9):\n",
        "print(5+7*)\n",
        "\n",
        "5\n",
        "\n",
        "12\n",
        "\n",
        "19\n",
        "\n",
        "26\n",
        "\n",
        "33\n",
        "\n",
        "40\n",
        "\n",
        "47\n",
        "\n",
        "54\n",
        "\n",
        "61\n",
        "\n",
        "\n"
      ],
      "metadata": {
        "id": "EY0PT8dbiTGy"
      }
    },
    {
      "cell_type": "markdown",
      "source": [
        "Question 10: Create a list of fruits with 9 elements and print it"
      ],
      "metadata": {
        "id": "yh3Ohy7bKqDy"
      }
    },
    {
      "cell_type": "markdown",
      "source": [
        "Question 11 :  Slice from 1st element to the 4th. Print only the first 4 elements in the above list."
      ],
      "metadata": {
        "id": "-R-U09iPLsFT"
      }
    },
    {
      "cell_type": "markdown",
      "source": [
        "Question 12 : Create a list named 'list_nums' of numbers  (3,4,7,23,1,4,23,90,0,5)"
      ],
      "metadata": {
        "id": "IbKG1zXzMWTA"
      }
    },
    {
      "cell_type": "markdown",
      "source": [
        "Question 14 : Iterate through each element in the above list using a for loop and add one to each element in the list and print the list"
      ],
      "metadata": {
        "id": "WA_-1-4aNJyh"
      }
    },
    {
      "cell_type": "markdown",
      "source": [
        "Question 15: Create an empty list named motorcycles"
      ],
      "metadata": {
        "id": "4H_jl0kRN4A4"
      }
    },
    {
      "cell_type": "markdown",
      "source": [
        "Question 16: Add elements to the empty list created above,atleast 3 motorcycles"
      ],
      "metadata": {
        "id": "uqqL8i0NOCfg"
      }
    },
    {
      "cell_type": "markdown",
      "source": [
        "Question 17: Remove two motorcycles from the list above by value"
      ],
      "metadata": {
        "id": "jOK60vLaPKX8"
      }
    },
    {
      "cell_type": "markdown",
      "source": [
        "Question 18: Create a dictionary for four countries. With the country as the key and their capital as the value and print the dictionary"
      ],
      "metadata": {
        "id": "q0RY_sF6PnKU"
      }
    },
    {
      "cell_type": "markdown",
      "source": [
        "Question 19 : Print the length of the above created dictionary"
      ],
      "metadata": {
        "id": "yzm_xXKRQgDk"
      }
    },
    {
      "cell_type": "markdown",
      "source": [
        "*Question* 20 : Remove a country and its capital (key-value pair) from the dictionary created and print the dictionay minus that value"
      ],
      "metadata": {
        "id": "44gEekGWQqMH"
      }
    },
    {
      "cell_type": "markdown",
      "source": [
        "Question 21 : Create an empty dictionary"
      ],
      "metadata": {
        "id": "E5j6cZ_VRLpL"
      }
    },
    {
      "cell_type": "markdown",
      "source": [
        "Question 22: Add the two key-vale pair mentioned below into the above created empty dictionary and print the dictionary\n",
        "1. 'Denmark' - 'Copenhagen'\n",
        "2. 'Finland' - 'Helsinki"
      ],
      "metadata": {
        "id": "vT61Qp6oRSy-"
      }
    },
    {
      "cell_type": "markdown",
      "source": [
        "Question 23 : Modify the value of Finland from Helsinki to Rome and print the dictionary"
      ],
      "metadata": {
        "id": "fnR4UuMoRvgT"
      }
    },
    {
      "cell_type": "markdown",
      "source": [
        "Question 24 : Create a dictionary to store username and password"
      ],
      "metadata": {
        "id": "82pbm4VPSRJf"
      }
    },
    {
      "cell_type": "markdown",
      "source": [
        "Question 25 : Create a Tuple wiht values 1,10 and 30"
      ],
      "metadata": {
        "id": "E46rGGKfSkJv"
      }
    },
    {
      "cell_type": "markdown",
      "source": [
        "Question 26 : Print the first value in the above created tuple"
      ],
      "metadata": {
        "id": "o9DY-rDMSvPC"
      }
    },
    {
      "cell_type": "markdown",
      "source": [
        "Question 27 : Will this work 'my_tuple[1] = 3' to the above tuple? Give reason"
      ],
      "metadata": {
        "id": "yAAWUXOMS9D7"
      }
    }
  ]
}